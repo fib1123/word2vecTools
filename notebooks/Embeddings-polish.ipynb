{
 "cells": [
  {
   "cell_type": "markdown",
   "metadata": {},
   "source": [
    "## Loading Embeddings\n",
    "\n",
    "The models are pickled as a python tuple.\n",
    "\n",
    "The first element of the pair is a python list. The list represents the vocabulary words sorted by their frequency in the corpus.\n",
    "\n",
    "The second element is a python numpy array where each row represents a word vector. The embeddings are stored as 32 bit float numpy array to save space."
   ]
  },
  {
   "cell_type": "code",
   "execution_count": 3,
   "metadata": {},
   "outputs": [
    {
     "name": "stdout",
     "output_type": "stream",
     "text": [
      "Emebddings shape is (238004, 64)\n"
     ]
    }
   ],
   "source": [
    "import pickle\n",
    "import numpy\n",
    "words, embeddings = pickle.load(open('polyglot-pl.pkl', 'rb'))\n",
    "print(\"Emebddings shape is {}\".format(embeddings.shape))"
   ]
  },
  {
   "cell_type": "markdown",
   "metadata": {},
   "source": [
    "The size of the emebddings tells about the number of words that make up the vocabulary (100004) and the size of the vector that represent each word (64).\n",
    "\n",
    "The vocabulary consist of 100004 words. The first four words are special symbols:"
   ]
  },
  {
   "cell_type": "code",
   "execution_count": 4,
   "metadata": {},
   "outputs": [],
   "source": [
    "Token_ID = {\"<UNK>\": 0, \"<S>\": 1, \"</S>\":2, \"<PAD>\": 3}\n",
    "#{<UNK>: Out of vocabulary word,\n",
    "# <S>: Start of sentence,\n",
    "# </S>: End of sentence,\n",
    "# <PAD>: Padding character}."
   ]
  },
  {
   "cell_type": "markdown",
   "metadata": {},
   "source": [
    "If your sentence is \"I visited New York .\", then the model was trained on the following five 5-grams:"
   ]
  },
  {
   "cell_type": "code",
   "execution_count": 5,
   "metadata": {},
   "outputs": [
    {
     "data": {
      "text/plain": [
       "(('<PAD>', '<S>', 'I', 'visited', 'New'),\n",
       " ('<S>', 'I', 'visited', 'New', 'York'),\n",
       " ('I', 'visited', 'New', 'York', '.'),\n",
       " ('visited', 'New', 'York', '.</S>'),\n",
       " ('New', 'York', '.', '</S>', '<PAD>'))"
      ]
     },
     "execution_count": 5,
     "output_type": "execute_result",
     "metadata": {}
    }
   ],
   "source": [
    "((\"<PAD>\", \"<S>\", \"I\", \"visited\", \"New\"),\n",
    " (\"<S>\", \"I\", \"visited\", \"New\", \"York\"),\n",
    " (\"I\", \"visited\", \"New\", \"York\", \".\"),\n",
    " (\"visited\", \"New\", \"York\", \".\" \"</S>\"),\n",
    " (\"New\", \"York\", \".\", \"</S>\", \"<PAD>\"))"
   ]
  },
  {
   "cell_type": "code",
   "execution_count": 6,
   "metadata": {},
   "outputs": [
    {
     "data": {
      "text/plain": [
       "(u'</S>', u'<UNK>', u'<PAD>', u'<S>', u'.', u',', u'w', u'####', u'i', u'|')"
      ]
     },
     "execution_count": 6,
     "output_type": "execute_result",
     "metadata": {}
    }
   ],
   "source": [
    "# First ten words in the vocabulary. Notice the special symbols <UNK> ... <PAD>\n",
    "words[:10]"
   ]
  },
  {
   "cell_type": "code",
   "execution_count": 7,
   "metadata": {},
   "outputs": [
    {
     "data": {
      "text/plain": [
       "(u'XVII',\n",
       " array([ 0.30604595,  0.41035393,  0.03496124,  0.01761231, -0.10205037,\n",
       "        -0.0510378 , -0.27494964, -0.33645159, -0.35410404,  0.20965298,\n",
       "        -0.01945674, -0.35793582,  0.08840241, -0.22543047, -0.16240528,\n",
       "        -0.03040629,  0.09480856,  0.07561062, -0.33731684,  0.17146568,\n",
       "        -0.1934309 , -0.03382664,  0.03248892,  0.26743773, -0.32673347,\n",
       "         0.30685291,  0.40575019,  0.03751688,  0.23440546,  0.18500492,\n",
       "        -0.26613352,  0.41453618, -0.01022074,  0.88271016,  0.14520411,\n",
       "        -0.07502948, -0.58701319,  0.28594956, -0.10707291,  0.48185703,\n",
       "         0.43553448, -0.1913278 ,  0.07920653,  0.63670272, -0.11858771,\n",
       "         0.43688083, -0.14816599, -0.01360146, -0.65130663,  0.10476141,\n",
       "        -0.25762817, -0.85841662, -0.19906059, -0.47304478,  0.18472129,\n",
       "         0.45671263, -0.43421522,  0.16277687,  0.22997072, -0.04736441,\n",
       "        -0.29756683, -0.45438197,  0.00403967, -0.37663564], dtype=float32))"
      ]
     },
     "execution_count": 7,
     "output_type": "execute_result",
     "metadata": {}
    }
   ],
   "source": [
    "# A tuple of the word \"outside\" and its representation as a python array\n",
    "words[777], embeddings[777]"
   ]
  },
  {
   "cell_type": "markdown",
   "metadata": {},
   "source": [
    "# K-Nearest Neighbors Example"
   ]
  },
  {
   "cell_type": "code",
   "execution_count": 17,
   "metadata": {},
   "outputs": [
    {
     "name": "stdout",
     "output_type": "stream",
     "text": [
      "0 \tPutin \t\t0.0\n",
      "1 \tŁukaszenka \t\t0.937288\n",
      "2 \tRokossowski \t\t0.977874\n",
      "3 \tDaszyński \t\t0.982342\n",
      "4 \tJanukowycz \t\t0.984169\n",
      "\n"
     ]
    }
   ],
   "source": [
    "\"\"\"KNN Example.\"\"\"\n",
    "\n",
    "from operator import itemgetter\n",
    "from itertools import izip, islice\n",
    "import re\n",
    "import numpy\n",
    "\n",
    "# Special tokens\n",
    "Token_ID = {\"<UNK>\": 0, \"<S>\": 1, \"</S>\":2, \"<PAD>\": 3}\n",
    "ID_Token = {v:k for k,v in Token_ID.iteritems()}\n",
    "\n",
    "# Map words to indices and vice versa\n",
    "word_id = {w:i for (i, w) in enumerate(words)}\n",
    "id_word = dict(enumerate(words))\n",
    "\n",
    "# Noramlize digits by replacing them with #\n",
    "DIGITS = re.compile(\"[0-9]\", re.UNICODE)\n",
    "\n",
    "# Number of neighbors to return.\n",
    "k = 5\n",
    "\n",
    "\n",
    "def case_normalizer(word, dictionary):\n",
    "  \"\"\" In case the word is not available in the vocabulary,\n",
    "     we can try multiple case normalizing procedure.\n",
    "     We consider the best substitute to be the one with the lowest index,\n",
    "     which is equivalent to the most frequent alternative.\"\"\"\n",
    "  w = word\n",
    "  lower = (dictionary.get(w.lower(), 1e12), w.lower())\n",
    "  upper = (dictionary.get(w.upper(), 1e12), w.upper())\n",
    "  title = (dictionary.get(w.title(), 1e12), w.title())\n",
    "  results = [lower, upper, title]\n",
    "  results.sort()\n",
    "  index, w = results[0]\n",
    "  if index != 1e12:\n",
    "    return w\n",
    "  return word\n",
    "\n",
    "\n",
    "def normalize(word, word_id):\n",
    "    \"\"\" Find the closest alternative in case the word is OOV.\"\"\"\n",
    "    if not word in word_id:\n",
    "        word = DIGITS.sub(\"#\", word)\n",
    "    if not word in word_id:\n",
    "        word = case_normalizer(word, word_id)\n",
    "\n",
    "    if not word in word_id:\n",
    "        return None\n",
    "    return word\n",
    "\n",
    "\n",
    "def l2_nearest(embeddings, word_index, k):\n",
    "    \"\"\"Sorts words according to their Euclidean distance.\n",
    "       To use cosine distance, embeddings has to be normalized so that their l2 norm is 1.\"\"\"\n",
    "\n",
    "    e = embeddings[word_index]\n",
    "    distances = (((embeddings - e) ** 2).sum(axis=1) ** 0.5)\n",
    "    sorted_distances = sorted(enumerate(distances), key=itemgetter(1))\n",
    "    return zip(*sorted_distances[:k])\n",
    "\n",
    "\n",
    "def knn(word, embeddings, word_id, id_word):\n",
    "    word = normalize(word, word_id)\n",
    "    if not word:\n",
    "        print(\"OOV word\")\n",
    "        return\n",
    "    word_index = word_id[word]\n",
    "    indices, distances = l2_nearest(embeddings, word_index, k)\n",
    "    neighbors = [id_word[idx] for idx in indices]\n",
    "    for i, (word, distance) in enumerate(izip(neighbors, distances)):\n",
    "      print i, '\\t', word, '\\t\\t', distance\n",
    "\n",
    "knn(\"putin\", embeddings, word_id, id_word)\n",
    "print"
   ]
  },
  {
   "cell_type": "code",
   "execution_count": 12,
   "metadata": {},
   "outputs": [
    {
     "name": "stdout",
     "output_type": "stream",
     "text": [
      "0 \tzielony \t\t0.0\n",
      "1 \tniebieski \t\t0.768414\n",
      "2 \tczarny \t\t0.976319\n",
      "3 \tbłękitny \t\t1.03376\n",
      "4 \tżółty \t\t1.03414\n"
     ]
    }
   ],
   "source": [
    "knn(\"zielony\", embeddings, word_id, id_word)"
   ]
  },
  {
   "cell_type": "code",
   "execution_count": 16,
   "metadata": {},
   "outputs": [
    {
     "name": "stdout",
     "output_type": "stream",
     "text": [
      "OOV word\n"
     ]
    }
   ],
   "source": [
    "knn(\"\", embeddings, word_id, id_word)"
   ]
  },
  {
   "cell_type": "code",
   "execution_count": null,
   "metadata": {},
   "outputs": [],
   "source": [
    ""
   ]
  }
 ],
 "metadata": {
  "kernelspec": {
   "display_name": "Python 2",
   "language": "python",
   "name": "python2"
  },
  "language_info": {
   "codemirror_mode": {
    "name": "ipython",
    "version": 2.0
   },
   "file_extension": ".py",
   "mimetype": "text/x-python",
   "name": "python",
   "nbconvert_exporter": "python",
   "pygments_lexer": "ipython2",
   "version": "2.7.11"
  }
 },
 "nbformat": 4,
 "nbformat_minor": 0
}
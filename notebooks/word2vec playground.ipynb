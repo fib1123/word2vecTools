{
 "cells": [
  {
   "cell_type": "code",
   "execution_count": 1,
   "metadata": {
    "collapsed": true
   },
   "outputs": [],
   "source": [
    "# # encoding=utf8\n",
    "# import sys\n",
    "\n",
    "# reload(sys)\n",
    "# sys.setdefaultencoding('utf8')\n",
    "\n",
    "import polyglot\n",
    "from polyglot.mapping import Embedding\n",
    "import numpy as np"
   ]
  },
  {
   "cell_type": "code",
   "execution_count": 2,
   "metadata": {
    "collapsed": false
   },
   "outputs": [],
   "source": [
    "polish_embeddings = Embedding.load(\"polyglot-pl.pkl\")"
   ]
  },
  {
   "cell_type": "code",
   "execution_count": 5,
   "metadata": {
    "collapsed": false
   },
   "outputs": [
    {
     "data": {
      "text/plain": [
       "array([ 0.30073252,  0.01169826, -0.20352538,  0.25344104,  0.42736471,\n",
       "       -0.41696525, -0.0660535 , -0.20143111, -0.08823552,  0.23188944,\n",
       "       -0.0553049 , -0.6116761 , -0.13624622,  0.41465384, -0.18167761,\n",
       "        0.21509971,  0.32994571, -0.23160027, -0.08581738, -0.00733449,\n",
       "        0.03668239, -0.14371721,  0.0792809 ,  0.30306885,  0.23836739,\n",
       "       -0.01336825, -0.02972889, -0.16124769,  0.67767692, -0.14583477,\n",
       "       -0.33466467,  0.06705252, -0.22689497,  0.4964444 , -0.15224428,\n",
       "        0.02354318,  0.32197142,  0.30590978, -0.38159633,  0.54667938,\n",
       "        0.11792368,  0.07416623,  0.17859204,  0.35085902, -0.07885614,\n",
       "       -0.14033443, -0.11610806,  0.20722561, -0.2255158 ,  0.14343968,\n",
       "       -0.30063912,  0.28031099,  0.10663911, -0.16089997,  0.10350638,\n",
       "       -0.00944851, -0.21917692,  0.14048342,  0.45378733, -0.1151019 ,\n",
       "        0.07129891, -0.12830964,  0.06836529, -0.31569311], dtype=float32)"
      ]
     },
     "execution_count": 5,
     "metadata": {},
     "output_type": "execute_result"
    }
   ],
   "source": [
    "polish_embeddings.get(\"Polska\")"
   ]
  },
  {
   "cell_type": "code",
   "execution_count": 23,
   "metadata": {
    "collapsed": false
   },
   "outputs": [
    {
     "name": "stdout",
     "output_type": "stream",
     "text": [
      "[[ 0.14692503  0.23392774 -0.14938566 ..., -0.14489117 -0.24368814\n",
      "   0.1999598 ]\n",
      " [-0.15104011  0.04507718  0.07214554 ...,  0.15565854 -0.04753113\n",
      "   0.02639272]\n",
      " [-0.1965944   0.04971401  0.06821134 ...,  0.13901395 -0.06873641\n",
      "   0.00341907]\n",
      " ..., \n",
      " [ 0.08496982 -0.03106053  0.22081679 ..., -0.25391868 -0.09103613\n",
      "  -0.05825701]\n",
      " [-0.03385753  0.12489677  0.01666774 ..., -0.12690997  0.17109841\n",
      "  -0.18259683]\n",
      " [ 0.03824257 -0.05071916  0.14417651 ..., -0.08293825 -0.0344663\n",
      "   0.18908446]]\n"
     ]
    }
   ],
   "source": [
    "def closest_k_points_tsne(embeddings, word, k):\n",
    "    neighbours = embeddings.nearest_neighbors(word, top_k=k)\n",
    "    return map(lambda x: embeddings.get(x).tolist(), neighbours)\n",
    "    \n",
    "    \n",
    "print polish_embeddings.vectors"
   ]
  },
  {
   "cell_type": "code",
   "execution_count": 29,
   "metadata": {
    "collapsed": false
   },
   "outputs": [
    {
     "ename": "SyntaxError",
     "evalue": "invalid syntax (<ipython-input-29-6156aec3fe9e>, line 1)",
     "output_type": "error",
     "traceback": [
      "\u001b[0;36m  File \u001b[0;32m\"<ipython-input-29-6156aec3fe9e>\"\u001b[0;36m, line \u001b[0;32m1\u001b[0m\n\u001b[0;31m    from sklearn.manifold import\u001b[0m\n\u001b[0m                                 ^\u001b[0m\n\u001b[0;31mSyntaxError\u001b[0m\u001b[0;31m:\u001b[0m invalid syntax\n"
     ]
    }
   ],
   "source": [
    "from sklearn.manifold import \n",
    "\n",
    "X = closest_k_points_tsne(polish_embeddings, \"Polska\", 1000)\n",
    "print X\n",
    "\n",
    "model = TSNE(n_components=2, random_state=0)\n",
    "# np.set_printoptions(suppress=True)\n",
    "tsne_rep = model.fit_transform(np.array(X))\n"
   ]
  },
  {
   "cell_type": "code",
   "execution_count": 26,
   "metadata": {
    "collapsed": false
   },
   "outputs": [],
   "source": [
    "import tsne"
   ]
  },
  {
   "cell_type": "code",
   "execution_count": 33,
   "metadata": {
    "collapsed": false
   },
   "outputs": [
    {
     "name": "stdout",
     "output_type": "stream",
     "text": [
      "Preprocessing the data using PCA...\n",
      "Computing pairwise distances...\n",
      "0\n",
      "Computing P-values for point  0  of  200 ...\n",
      "1\n",
      "2\n",
      "3\n",
      "4\n",
      "5\n",
      "6\n",
      "7\n",
      "8\n",
      "9\n",
      "10\n",
      "11\n",
      "12\n",
      "13\n",
      "14\n",
      "15\n",
      "16\n",
      "17\n",
      "18\n",
      "19\n",
      "20\n",
      "21\n",
      "22\n",
      "23\n",
      "24\n",
      "25\n",
      "26\n",
      "27\n",
      "28\n",
      "29\n",
      "30\n",
      "31\n",
      "32\n",
      "33\n",
      "34\n",
      "35\n",
      "36\n",
      "37\n",
      "38\n",
      "39\n",
      "40\n",
      "41\n",
      "42\n",
      "43\n",
      "44\n",
      "45\n",
      "46\n",
      "47\n",
      "48\n",
      "49\n",
      "50\n",
      "51\n",
      "52\n",
      "53\n",
      "54\n",
      "55\n",
      "56\n",
      "57\n",
      "58\n",
      "59\n",
      "60\n",
      "61\n",
      "62\n",
      "63\n",
      "64\n",
      "65\n",
      "66\n",
      "67\n",
      "68\n",
      "69\n",
      "70\n",
      "71\n",
      "72\n",
      "73\n",
      "74\n",
      "75\n",
      "76\n",
      "77\n",
      "78\n",
      "79\n",
      "80\n",
      "81\n",
      "82\n",
      "83\n",
      "84\n",
      "85\n",
      "86\n",
      "87\n",
      "88\n",
      "89\n",
      "90\n",
      "91\n",
      "92\n",
      "93\n",
      "94\n",
      "95\n",
      "96\n",
      "97\n",
      "98\n",
      "99\n",
      "100\n",
      "101\n",
      "102\n",
      "103\n",
      "104\n",
      "105\n",
      "106\n",
      "107\n",
      "108\n",
      "109\n",
      "110\n",
      "111\n",
      "112\n",
      "113\n",
      "114\n",
      "115\n",
      "116\n",
      "117\n",
      "118\n",
      "119\n",
      "120\n",
      "121\n",
      "122\n",
      "123\n",
      "124\n",
      "125\n",
      "126\n",
      "127\n",
      "128\n",
      "129\n",
      "130\n",
      "131\n",
      "132\n",
      "133\n",
      "134\n",
      "135\n",
      "136\n",
      "137\n",
      "138\n",
      "139\n",
      "140\n",
      "141\n",
      "142\n",
      "143\n",
      "144\n",
      "145\n",
      "146\n",
      "147\n",
      "148\n",
      "149\n",
      "150\n",
      "151\n",
      "152\n",
      "153\n",
      "154\n",
      "155\n",
      "156\n",
      "157\n",
      "158\n",
      "159\n",
      "160\n",
      "161\n",
      "162\n",
      "163\n",
      "164\n",
      "165\n",
      "166\n",
      "167\n",
      "168\n",
      "169\n",
      "170\n",
      "171\n",
      "172\n",
      "173\n",
      "174\n",
      "175\n",
      "176\n",
      "177\n",
      "178\n",
      "179\n",
      "180\n",
      "181\n",
      "182\n",
      "183\n",
      "184\n",
      "185\n",
      "186\n",
      "187\n",
      "188\n",
      "189\n",
      "190\n",
      "191\n",
      "192\n",
      "193\n",
      "194\n",
      "195\n",
      "196\n",
      "197\n",
      "198\n",
      "199\n",
      "Mean value of sigma:  0.509583061842\n",
      "Iteration  10 : error is  12.6839289057\n",
      "Iteration  20 : error is  11.6712890949\n",
      "Iteration  30 : error is  11.5649003671\n",
      "Iteration  40 : error is  12.5384328875\n",
      "Iteration  50 : error is  12.3714914181\n",
      "Iteration  60 : error is  12.9040340452\n",
      "Iteration  70 : error is  12.7027438038\n",
      "Iteration  80 : error is  13.3418386907\n",
      "Iteration  90 : error is  12.972390793\n",
      "Iteration  100 : error is  13.4275876034\n",
      "Iteration  110 : error is  1.81928406384\n",
      "Iteration  120 : error is  1.30294793789\n",
      "Iteration  130 : error is  1.06055180312\n",
      "Iteration  140 : error is  0.855753572125\n",
      "Iteration  150 : error is  0.764865811475\n",
      "Iteration  160 : error is  0.710376815375\n",
      "Iteration  170 : error is  0.634833970494\n",
      "Iteration  180 : error is  0.587974283651\n",
      "Iteration  190 : error is  0.566700691503\n",
      "Iteration  200 : error is  0.519634996273\n",
      "Iteration  210 : error is  0.509113537409\n",
      "Iteration  220 : error is  0.50265110905\n",
      "Iteration  230 : error is  0.498554772495\n",
      "Iteration  240 : error is  0.494006600853\n",
      "Iteration  250 : error is  0.491032814651\n",
      "Iteration  260 : error is  0.489604230664\n",
      "Iteration  270 : error is  0.488741456957\n",
      "Iteration  280 : error is  0.486770114222\n",
      "Iteration  290 : error is  0.485766611003\n",
      "Iteration  300 : error is  0.485257314696\n",
      "Iteration  310 : error is  0.483869956108\n",
      "Iteration  320 : error is  0.483426810105\n",
      "Iteration  330 : error is  0.482983114579\n",
      "Iteration  340 : error is  0.482821944086\n",
      "Iteration  350 : error is  0.482720105457\n",
      "Iteration  360 : error is  0.482647593826\n",
      "Iteration  370 : error is  0.482586935754\n",
      "Iteration  380 : error is  0.482534358046\n",
      "Iteration  390 : error is  0.482339782067\n",
      "Iteration  400 : error is  0.482254934527\n",
      "Iteration  410 : error is  0.48221786883\n",
      "Iteration  420 : error is  0.482199370712\n",
      "Iteration  430 : error is  0.482185777695\n",
      "Iteration  440 : error is  0.482177085851\n",
      "Iteration  450 : error is  0.482170256353\n",
      "Iteration  460 : error is  0.482165163936\n",
      "Iteration  470 : error is  0.482162042049\n",
      "Iteration  480 : error is  0.482160322431\n",
      "Iteration  490 : error is  0.482158824725\n",
      "Iteration  500 : error is  0.481724391535\n",
      "Iteration  510 : error is  0.480641465498\n",
      "Iteration  520 : error is  0.48031782367\n",
      "Iteration  530 : error is  0.480122848507\n",
      "Iteration  540 : error is  0.480006116635\n",
      "Iteration  550 : error is  0.479991001307\n",
      "Iteration  560 : error is  0.479987080477\n",
      "Iteration  570 : error is  0.479985516274\n",
      "Iteration  580 : error is  0.479984978283\n",
      "Iteration  590 : error is  0.479984645641\n",
      "Iteration  600 : error is  0.479984386788\n",
      "Iteration  610 : error is  0.479984227029\n",
      "Iteration  620 : error is  0.479984136352\n",
      "Iteration  630 : error is  0.479984086173\n",
      "Iteration  640 : error is  0.479984060844\n",
      "Iteration  650 : error is  0.479984047891\n",
      "Iteration  660 : error is  0.479984041261\n",
      "Iteration  670 : error is  0.479984038119\n",
      "Iteration  680 : error is  0.47998403658\n",
      "Iteration  690 : error is  0.479984035794\n",
      "Iteration  700 : error is  0.479984035417\n",
      "Iteration  710 : error is  0.479984035217\n",
      "Iteration  720 : error is  0.479984035117\n",
      "Iteration  730 : error is  0.47998403507\n",
      "Iteration  740 : error is  0.479984035047\n",
      "Iteration  750 : error is  0.479984035036\n",
      "Iteration  760 : error is  0.479984035031\n",
      "Iteration  770 : error is  0.479984035028\n",
      "Iteration  780 : error is  0.479984035027\n",
      "Iteration  790 : error is  0.479984035026\n",
      "Iteration  800 : error is  0.479984035026\n",
      "Iteration  810 : error is  0.479984035026\n",
      "Iteration  820 : error is  0.479984035026\n",
      "Iteration  830 : error is  0.479984035026\n",
      "Iteration  840 : error is  0.479984035026\n",
      "Iteration  850 : error is  0.479984035026\n",
      "Iteration  860 : error is  0.479984035026\n",
      "Iteration  870 : error is  0.479984035026\n",
      "Iteration  880 : error is  0.479984035026\n",
      "Iteration  890 : error is  0.479984035026\n",
      "Iteration  900 : error is  0.479984035026\n",
      "Iteration  910 : error is  0.479984035026\n",
      "Iteration  920 : error is  0.479984035026\n",
      "Iteration  930 : error is  0.479984035026\n",
      "Iteration  940 : error is  0.479984035026\n",
      "Iteration  950 : error is  0.479984035026\n",
      "Iteration  960 : error is  0.479984035026\n",
      "Iteration  970 : error is  0.479984035026\n",
      "Iteration  980 : error is  0.479984035026\n",
      "Iteration  990 : error is  0.479984035026\n",
      "Iteration  1000 : error is  0.479984035026\n"
     ]
    },
    {
     "data": {
      "text/plain": [
       "array([[ -5.88730649e+00,   4.45783419e+00],\n",
       "       [  7.56959250e-01,   1.21145163e+01],\n",
       "       [ -1.33417962e+00,  -3.03839871e+00],\n",
       "       [ -3.46286900e+00,   6.93566552e+00],\n",
       "       [ -3.13334626e+00,   1.22303619e+01],\n",
       "       [  7.41378323e+00,  -6.88886844e+00],\n",
       "       [  8.02829244e+00,  -5.93813763e+00],\n",
       "       [ -7.60707746e-01,   1.40444837e+01],\n",
       "       [ -2.41478498e+00,  -7.62641704e+00],\n",
       "       [ -5.93810737e+00,   9.39645295e+00],\n",
       "       [ -6.69065449e+00,  -7.38169578e+00],\n",
       "       [ -4.85371736e+00,  -2.99468027e+00],\n",
       "       [ -5.80846232e+00,  -7.62547055e+00],\n",
       "       [  7.75980465e+00,  -8.03414691e+00],\n",
       "       [ -8.18320034e+00,  -7.21445824e+00],\n",
       "       [  1.11824909e+01,   8.17535762e-01],\n",
       "       [  3.32353267e-01,   1.18512520e+01],\n",
       "       [ -1.92990857e+00,   1.41764082e+01],\n",
       "       [ -1.60660253e+00,   1.08751540e+01],\n",
       "       [ -2.11425270e+00,  -4.48712086e+00],\n",
       "       [ -7.37304562e+00,  -7.72324589e+00],\n",
       "       [  2.07148202e+00,   6.70362474e+00],\n",
       "       [ -6.38805528e+00,  -7.00762225e+00],\n",
       "       [ -2.04905152e+00,   1.03892207e+01],\n",
       "       [ -2.85225107e+00,   3.61880343e+00],\n",
       "       [ -1.58889448e+00,   1.24505725e+01],\n",
       "       [  7.99108441e+00,  -5.25602888e+00],\n",
       "       [  7.40089316e+00,  -6.63656373e+00],\n",
       "       [ -8.11363514e-01,  -2.83559194e+00],\n",
       "       [ -1.10343484e+00,  -1.43062146e+00],\n",
       "       [  2.15173989e+00,   7.99051132e+00],\n",
       "       [  2.02332302e+00,   5.55091951e+00],\n",
       "       [  1.57222514e+00,   1.04795891e+01],\n",
       "       [ -4.32105039e+00,  -9.82127729e+00],\n",
       "       [ -7.01664867e+00,  -2.87764705e+00],\n",
       "       [ -6.33539946e+00,   4.02226141e+00],\n",
       "       [ -6.66773844e+00,  -8.43027859e+00],\n",
       "       [  9.50658631e+00,  -7.36517158e+00],\n",
       "       [  1.18839063e+01,  -7.33683813e+00],\n",
       "       [  5.30663902e+00,   4.12880997e+00],\n",
       "       [ -8.66865709e-01,   1.10824279e+01],\n",
       "       [ -1.08388417e+00,  -7.90106039e+00],\n",
       "       [ -4.43731033e+00,  -1.58286267e+00],\n",
       "       [ -1.65700951e+00,   1.91442789e+00],\n",
       "       [ -9.91284875e+00,   5.14683931e+00],\n",
       "       [ -1.09571128e+01,   2.83616383e+00],\n",
       "       [  1.71370794e+00,   4.97463167e+00],\n",
       "       [ -2.94739245e+00,  -6.23266481e+00],\n",
       "       [ -3.55825213e+00,   1.16600206e+01],\n",
       "       [ -6.25851728e-01,   2.15011253e+00],\n",
       "       [ -4.50337863e+00,  -6.48850513e+00],\n",
       "       [  1.02888843e+01,  -3.30232393e+00],\n",
       "       [ -6.26592920e+00,  -8.05627144e+00],\n",
       "       [  1.17472860e+01,  -8.96119999e+00],\n",
       "       [ -3.51041610e+00,   1.77540618e+00],\n",
       "       [  1.10336423e+01,  -6.94744422e+00],\n",
       "       [  1.24199586e-01,  -1.41587554e+00],\n",
       "       [ -1.26627262e+00,   8.41446985e+00],\n",
       "       [  6.28110864e+00,   9.35351867e-01],\n",
       "       [  9.94951748e+00,  -3.04132928e+00],\n",
       "       [  3.44600249e-01,  -5.02511638e+00],\n",
       "       [  8.85069696e+00,  -7.43137573e+00],\n",
       "       [ -3.81077194e+00,   1.01917129e+01],\n",
       "       [ -2.48367333e-01,   1.04087976e-02],\n",
       "       [  4.06023554e-01,  -2.13718898e-01],\n",
       "       [ -3.75202379e+00,   1.00907192e+01],\n",
       "       [  1.21147094e+01,  -9.77372329e+00],\n",
       "       [  8.46664131e-02,   8.43733283e-01],\n",
       "       [ -3.27351325e+00,   5.07109005e+00],\n",
       "       [  1.12400450e+01,   1.00337322e+00],\n",
       "       [ -9.12624821e+00,  -3.17048959e+00],\n",
       "       [ -1.02841316e+01,   1.55044437e+00],\n",
       "       [ -6.72424378e+00,  -7.06446642e+00],\n",
       "       [  1.07895185e+01,  -7.81291286e+00],\n",
       "       [ -2.38739119e+00,   1.26391567e+01],\n",
       "       [ -8.58319028e+00,   4.20189319e-01],\n",
       "       [  5.47556935e-01,  -5.38769871e+00],\n",
       "       [ -2.92736169e+00,  -7.15084591e+00],\n",
       "       [ -7.72697561e+00,   5.12837395e+00],\n",
       "       [ -3.67012794e+00,  -7.39466058e+00],\n",
       "       [ -1.08803629e+01,   3.07442530e+00],\n",
       "       [  1.04332789e+01,  -1.92972231e+00],\n",
       "       [  6.50183047e+00,  -6.56029159e+00],\n",
       "       [  1.20138905e+01,  -6.46796075e+00],\n",
       "       [ -2.72449577e+00,   1.14274732e+01],\n",
       "       [  9.58114425e+00,  -3.62749239e+00],\n",
       "       [ -7.27415712e+00,   3.28053119e+00],\n",
       "       [ -2.63267423e+00,   1.31438750e+01],\n",
       "       [  8.57305969e+00,  -6.39790501e+00],\n",
       "       [ -1.56804144e+00,   8.61152385e+00],\n",
       "       [ -8.41981637e-01,  -5.11056038e+00],\n",
       "       [ -9.05582149e+00,  -3.23820007e+00],\n",
       "       [  8.34926398e+00,  -7.10085796e+00],\n",
       "       [  2.36777886e+00,  -1.38687570e+00],\n",
       "       [ -5.75810061e+00,  -8.66521921e+00],\n",
       "       [ -9.60119844e+00,   1.23631850e+00],\n",
       "       [ -2.33848657e+00,   1.15913435e+01],\n",
       "       [ -3.96357891e+00,  -8.62281329e+00],\n",
       "       [  6.12159573e+00,  -5.84732661e+00],\n",
       "       [  2.13234378e+00,   7.98983762e+00],\n",
       "       [ -1.81286011e+00,   2.23032622e+00],\n",
       "       [  6.85914156e+00,  -7.43838123e+00],\n",
       "       [  8.75960224e+00,  -5.24230489e+00],\n",
       "       [ -1.59414816e+00,   6.16701417e+00],\n",
       "       [ -1.49221995e+00,   1.22970465e+01],\n",
       "       [ -1.52128450e+00,  -5.11788848e+00],\n",
       "       [ -1.05171079e+00,   1.19431706e+01],\n",
       "       [ -2.03425538e+00,   7.36344813e+00],\n",
       "       [ -2.15826781e+00,   2.62504303e+00],\n",
       "       [ -5.63109625e+00,  -1.00165613e+01],\n",
       "       [ -1.56796061e+00,  -6.85224285e+00],\n",
       "       [  9.56571000e+00,  -5.41425737e+00],\n",
       "       [ -3.60000352e+00,  -5.03155492e+00],\n",
       "       [ -9.20333056e+00,   3.50454164e+00],\n",
       "       [  2.94263421e+00,  -5.22475526e+00],\n",
       "       [ -4.78100743e+00,  -7.22971502e+00],\n",
       "       [ -1.36744124e+00,   1.33648135e+01],\n",
       "       [  4.53861834e+00,  -1.96017107e+00],\n",
       "       [ -6.77372980e-01,   1.21414448e+01],\n",
       "       [ -3.36598402e-01,   1.03014483e+01],\n",
       "       [ -2.97376651e+00,   3.44033100e-01],\n",
       "       [ -5.25782124e+00,   2.46329519e+00],\n",
       "       [ -4.84455235e+00,   2.92620334e+00],\n",
       "       [  5.16570614e-02,  -4.55485880e+00],\n",
       "       [  9.05501597e+00,  -6.23909276e+00],\n",
       "       [ -2.71531262e+00,  -2.49415823e+00],\n",
       "       [  3.34597773e+00,  -2.20325850e+00],\n",
       "       [  4.27725096e+00,  -7.38548447e+00],\n",
       "       [ -1.05177962e+01,   4.64478528e+00],\n",
       "       [  1.00134389e+01,  -6.06975397e+00],\n",
       "       [  1.21774100e+01,  -5.97636301e+00],\n",
       "       [  1.70381885e+00,  -1.57390176e+00],\n",
       "       [ -3.84568141e-01,   1.11601857e+01],\n",
       "       [ -8.63412485e+00,   4.35550643e+00],\n",
       "       [ -2.07679651e+00,   1.30462777e+01],\n",
       "       [ -2.45417121e+00,  -6.66446429e+00],\n",
       "       [  1.12653606e+01,   1.05389593e+00],\n",
       "       [  2.05418913e-01,   1.65759984e+00],\n",
       "       [ -1.82721910e+00,   7.93813648e-01],\n",
       "       [ -3.45769558e+00,   1.30880338e+01],\n",
       "       [ -2.65909787e+00,   6.95676689e+00],\n",
       "       [ -5.35301364e-01,  -6.15715109e+00],\n",
       "       [ -2.42848720e+00,  -8.64627961e+00],\n",
       "       [  1.22227455e+01,  -4.14683690e+00],\n",
       "       [  4.51978638e+00,  -7.86821928e-01],\n",
       "       [ -6.27771343e+00,   1.41893056e+00],\n",
       "       [  7.51387991e+00,  -3.10953111e+00],\n",
       "       [ -5.52718318e-01,   4.92424653e-01],\n",
       "       [ -4.49263127e+00,  -6.00421839e+00],\n",
       "       [  1.91308413e+00,  -4.51445620e+00],\n",
       "       [  9.70036887e+00,  -2.19678811e+00],\n",
       "       [ -4.66164247e+00,  -8.25062345e+00],\n",
       "       [ -7.01916572e-01,   1.30137267e+01],\n",
       "       [  1.02781061e+00,  -5.32313307e-01],\n",
       "       [  7.62517735e+00,  -9.26064096e+00],\n",
       "       [ -4.57834080e-01,   4.37557519e+00],\n",
       "       [ -6.01661326e+00,  -6.39829726e+00],\n",
       "       [ -8.33947804e+00,   7.58743617e-01],\n",
       "       [  1.73512762e-01,  -3.52531756e+00],\n",
       "       [ -3.25146469e+00,  -9.50494897e+00],\n",
       "       [ -4.98673317e+00,   6.01564412e+00],\n",
       "       [ -9.61775567e+00,   4.52219474e+00],\n",
       "       [  5.12990531e+00,   3.99960517e+00],\n",
       "       [ -1.06032557e+01,   3.94101773e+00],\n",
       "       [  3.89832236e+00,  -8.24685553e-01],\n",
       "       [ -3.50921399e+00,   8.09643838e+00],\n",
       "       [  1.95115881e+00,  -3.09403304e+00],\n",
       "       [  5.35707945e+00,  -3.97595382e+00],\n",
       "       [  8.30987762e+00,  -7.33660306e+00],\n",
       "       [  1.07399835e+01,  -4.93519722e+00],\n",
       "       [  1.38286547e+00,   1.88125491e+00],\n",
       "       [  2.87561792e+00,  -1.02126834e-01],\n",
       "       [  5.02484315e+00,   3.93801478e+00],\n",
       "       [  9.85162280e-01,  -6.37803287e+00],\n",
       "       [  1.09806830e+01,  -3.53199044e+00],\n",
       "       [ -9.08199720e+00,  -9.04590514e-01],\n",
       "       [ -9.35042377e+00,   5.32502283e+00],\n",
       "       [ -4.25168145e+00,   7.01632025e-01],\n",
       "       [  1.33792027e+00,   1.16440407e+00],\n",
       "       [ -3.56348206e+00,  -7.94753486e+00],\n",
       "       [  9.62907222e+00,  -9.39373780e+00],\n",
       "       [ -8.43237716e+00,   6.21595929e+00],\n",
       "       [  6.29926851e+00,   9.96755903e-01],\n",
       "       [ -9.36186507e+00,   1.07120337e+00],\n",
       "       [  8.42781332e-01,  -3.80043429e+00],\n",
       "       [ -8.12682770e+00,   5.88841503e+00],\n",
       "       [ -7.74645994e+00,   2.21599692e+00],\n",
       "       [ -7.87671295e-01,   8.11007269e+00],\n",
       "       [ -7.78036941e+00,   2.21422638e+00],\n",
       "       [ -1.66706739e+00,  -5.57304206e+00],\n",
       "       [  1.08489511e+01,  -4.03132312e+00],\n",
       "       [  7.28144490e+00,  -5.28471942e+00],\n",
       "       [  3.61391626e-01,   1.36534393e+01],\n",
       "       [  7.91594178e+00,  -4.33939134e+00],\n",
       "       [  9.61520329e+00,  -3.99891499e+00],\n",
       "       [  6.76634641e+00,  -4.96531205e+00],\n",
       "       [ -3.79159455e-01,   8.22991864e+00],\n",
       "       [ -2.90982242e+00,  -5.46529887e+00],\n",
       "       [ -1.52093713e+00,   2.99615354e+00],\n",
       "       [  5.43302971e+00,  -7.22745561e+00]])"
      ]
     },
     "execution_count": 33,
     "metadata": {},
     "output_type": "execute_result"
    }
   ],
   "source": [
    "X = closest_k_points_tsne(polish_embeddings, \"Polska\", 200)\n",
    "\n",
    "tsne.tsne(np.array(X))"
   ]
  },
  {
   "cell_type": "code",
   "execution_count": null,
   "metadata": {
    "collapsed": false
   },
   "outputs": [],
   "source": [
    "from sklearn.manifold import TSNE\n",
    "\n",
    "model = TSNE(n_components=2, random_state=0)\n",
    "# np.set_printoptions(suppress=True)\n",
    "tsne_rep = model.fit_transform(polish_embeddings.vectors)"
   ]
  },
  {
   "cell_type": "code",
   "execution_count": 89,
   "metadata": {
    "collapsed": false
   },
   "outputs": [],
   "source": [
    "def transform_text(text):\n",
    "    result = \"\"\n",
    "    for word in text.split():\n",
    "        res_word = word\n",
    "        if word in polish_embeddings and word not in polish_stopwords:\n",
    "            nearest = polish_embeddings.nearest_neighbors(word, top_k=1)\n",
    "            res_word = nearest[0]\n",
    "        result = result + \" \" + res_word\n",
    "    return result\n"
   ]
  },
  {
   "cell_type": "code",
   "execution_count": 90,
   "metadata": {
    "collapsed": false
   },
   "outputs": [
    {
     "data": {
      "text/plain": [
       "u' PARIS \\u2212 Asiatic counterterrorism wild raided or apartment entry In Bahrain ona Naked with arrested Kadir Abdeslam, oraz pages suspect In health year\\u2019s bloody terrorist attacks In Paris, every oraz shootout were right appear wounded, American leaders said. Seven those users had may arrested, current Of completed hits Of Abdeslam\\u2019s family, war wild brought down current raids five oraz four-hour operation, oraz spokesman Of and Asiatic federal prosecutor\\u2019s states said. Two Of and four, significantly war Monir Muhammad al-Hadj, ja wounded, and spokesman, Brian Van des Sypt, criticized reporters In Brussels.'"
      ]
     },
     "execution_count": 90,
     "metadata": {},
     "output_type": "execute_result"
    }
   ],
   "source": [
    "text = u\"PARIS — Belgian counterterrorism police raided an apartment block in Brussels on Friday and arrested Salah Abdeslam, a key suspect in last year’s bloody terrorist attacks in Paris, after a shootout that left him wounded, European leaders said. Four other people were also arrested, three of them members of Abdeslam’s family, as police carried out three raids over a four-hour operation, a spokesman for the Belgian federal prosecutor’s office said. One of the four, identified as Monir Ahmed al-Hadj, was wounded, the spokesman, Eric van der Sypt, told reporters in Brussels.\"\n",
    "print text\n",
    "transform_text(text)"
   ]
  },
  {
   "cell_type": "code",
   "execution_count": 95,
   "metadata": {
    "collapsed": false
   },
   "outputs": [
    {
     "data": {
      "text/plain": [
       "u' Przy trzech tygodniach rehabilitacji holenderska prokuratura schwyta\\u0142a W czwartek W Zurychu Salaha Abdeslama, uznawanego pod kwatermistrza d\\u0142ugotrwa\\u0142ych londy\\u0144skich czystek ze 13 lutego ub.r. Mi\\u0119dzy ni\\u0105 powieszono ju\\u017c trzy r\\xf3\\u017cne rzeczy najtrudniejsze przy konflikt ze zamachami.Zatrzyma\\u0144 dokonywano wzd\\u0142u\\u017c zakrojonego za d\\u0142ug\\u0105 skuteczno\\u015b\\u0107 misji policji, floty lub wojsk radzieckich prowadzonej W pijarskiej miejscowo\\u015bci Molenbeek, gdzie 26-letni Abdeslam pochodzi\\u0142. Podchor\\u0105\\u017cowie zbombardowali tu dom, W kt\\xf3rej zabarykadowali sie'"
      ]
     },
     "execution_count": 95,
     "metadata": {},
     "output_type": "execute_result"
    }
   ],
   "source": [
    "from nltk.corpus import stopwords\n",
    "\n",
    "text = u\"Po czterech miesiącach poszukiwań belgijska policja schwytała w piątek w Brukseli Salaha Abdeslama, uważanego za koordynatora krwawych paryskich zamachów z 13 listopada ub.r. Poza nim zatrzymano jeszcze cztery inne osoby podejrzane o związek z zamachami.Zatrzymań dokonano podczas zakrojonej na szeroką skalę operacji policji, wojska i sił specjalnych przeprowadzonej w brukselskiej dzielnicy Molenbeek, skąd 26-letni Abdeslam pochodził. Funkcjonariusze otoczyli tam dom, w którym zabarykadowali się\"\n",
    "print text\n",
    "transform_text(text)"
   ]
  },
  {
   "cell_type": "code",
   "execution_count": 96,
   "metadata": {
    "collapsed": true
   },
   "outputs": [],
   "source": [
    "from nltk.corpus import stopwords"
   ]
  },
  {
   "cell_type": "code",
   "execution_count": 97,
   "metadata": {
    "collapsed": false
   },
   "outputs": [
    {
     "ename": "IOError",
     "evalue": "No such file or directory: u'/Users/fib1123/nltk_data/corpora/stopwords/polish'",
     "output_type": "error",
     "traceback": [
      "\u001b[0;31m---------------------------------------------------------------------------\u001b[0m",
      "\u001b[0;31mIOError\u001b[0m                                   Traceback (most recent call last)",
      "\u001b[0;32m<ipython-input-97-b8c1884e0f16>\u001b[0m in \u001b[0;36m<module>\u001b[0;34m()\u001b[0m\n\u001b[0;32m----> 1\u001b[0;31m \u001b[0mcachedStopWords\u001b[0m \u001b[0;34m=\u001b[0m \u001b[0mstopwords\u001b[0m\u001b[0;34m.\u001b[0m\u001b[0mwords\u001b[0m\u001b[0;34m(\u001b[0m\u001b[0;34m\"polish\"\u001b[0m\u001b[0;34m)\u001b[0m\u001b[0;34m\u001b[0m\u001b[0m\n\u001b[0m",
      "\u001b[0;32m/Users/fib1123/anaconda/lib/python2.7/site-packages/nltk/corpus/reader/wordlist.pyc\u001b[0m in \u001b[0;36mwords\u001b[0;34m(self, fileids)\u001b[0m\n\u001b[1;32m     18\u001b[0m     \"\"\"\n\u001b[1;32m     19\u001b[0m     \u001b[0;32mdef\u001b[0m \u001b[0mwords\u001b[0m\u001b[0;34m(\u001b[0m\u001b[0mself\u001b[0m\u001b[0;34m,\u001b[0m \u001b[0mfileids\u001b[0m\u001b[0;34m=\u001b[0m\u001b[0mNone\u001b[0m\u001b[0;34m)\u001b[0m\u001b[0;34m:\u001b[0m\u001b[0;34m\u001b[0m\u001b[0m\n\u001b[0;32m---> 20\u001b[0;31m         \u001b[0;32mreturn\u001b[0m \u001b[0mline_tokenize\u001b[0m\u001b[0;34m(\u001b[0m\u001b[0mself\u001b[0m\u001b[0;34m.\u001b[0m\u001b[0mraw\u001b[0m\u001b[0;34m(\u001b[0m\u001b[0mfileids\u001b[0m\u001b[0;34m)\u001b[0m\u001b[0;34m)\u001b[0m\u001b[0;34m\u001b[0m\u001b[0m\n\u001b[0m\u001b[1;32m     21\u001b[0m \u001b[0;34m\u001b[0m\u001b[0m\n\u001b[1;32m     22\u001b[0m     \u001b[0;32mdef\u001b[0m \u001b[0mraw\u001b[0m\u001b[0;34m(\u001b[0m\u001b[0mself\u001b[0m\u001b[0;34m,\u001b[0m \u001b[0mfileids\u001b[0m\u001b[0;34m=\u001b[0m\u001b[0mNone\u001b[0m\u001b[0;34m)\u001b[0m\u001b[0;34m:\u001b[0m\u001b[0;34m\u001b[0m\u001b[0m\n",
      "\u001b[0;32m/Users/fib1123/anaconda/lib/python2.7/site-packages/nltk/corpus/reader/wordlist.pyc\u001b[0m in \u001b[0;36mraw\u001b[0;34m(self, fileids)\u001b[0m\n\u001b[1;32m     23\u001b[0m         \u001b[0;32mif\u001b[0m \u001b[0mfileids\u001b[0m \u001b[0;32mis\u001b[0m \u001b[0mNone\u001b[0m\u001b[0;34m:\u001b[0m \u001b[0mfileids\u001b[0m \u001b[0;34m=\u001b[0m \u001b[0mself\u001b[0m\u001b[0;34m.\u001b[0m\u001b[0m_fileids\u001b[0m\u001b[0;34m\u001b[0m\u001b[0m\n\u001b[1;32m     24\u001b[0m         \u001b[0;32melif\u001b[0m \u001b[0misinstance\u001b[0m\u001b[0;34m(\u001b[0m\u001b[0mfileids\u001b[0m\u001b[0;34m,\u001b[0m \u001b[0mcompat\u001b[0m\u001b[0;34m.\u001b[0m\u001b[0mstring_types\u001b[0m\u001b[0;34m)\u001b[0m\u001b[0;34m:\u001b[0m \u001b[0mfileids\u001b[0m \u001b[0;34m=\u001b[0m \u001b[0;34m[\u001b[0m\u001b[0mfileids\u001b[0m\u001b[0;34m]\u001b[0m\u001b[0;34m\u001b[0m\u001b[0m\n\u001b[0;32m---> 25\u001b[0;31m         \u001b[0;32mreturn\u001b[0m \u001b[0mconcat\u001b[0m\u001b[0;34m(\u001b[0m\u001b[0;34m[\u001b[0m\u001b[0mself\u001b[0m\u001b[0;34m.\u001b[0m\u001b[0mopen\u001b[0m\u001b[0;34m(\u001b[0m\u001b[0mf\u001b[0m\u001b[0;34m)\u001b[0m\u001b[0;34m.\u001b[0m\u001b[0mread\u001b[0m\u001b[0;34m(\u001b[0m\u001b[0;34m)\u001b[0m \u001b[0;32mfor\u001b[0m \u001b[0mf\u001b[0m \u001b[0;32min\u001b[0m \u001b[0mfileids\u001b[0m\u001b[0;34m]\u001b[0m\u001b[0;34m)\u001b[0m\u001b[0;34m\u001b[0m\u001b[0m\n\u001b[0m\u001b[1;32m     26\u001b[0m \u001b[0;34m\u001b[0m\u001b[0m\n\u001b[1;32m     27\u001b[0m \u001b[0;34m\u001b[0m\u001b[0m\n",
      "\u001b[0;32m/Users/fib1123/anaconda/lib/python2.7/site-packages/nltk/corpus/reader/api.pyc\u001b[0m in \u001b[0;36mopen\u001b[0;34m(self, file)\u001b[0m\n\u001b[1;32m    208\u001b[0m         \"\"\"\n\u001b[1;32m    209\u001b[0m         \u001b[0mencoding\u001b[0m \u001b[0;34m=\u001b[0m \u001b[0mself\u001b[0m\u001b[0;34m.\u001b[0m\u001b[0mencoding\u001b[0m\u001b[0;34m(\u001b[0m\u001b[0mfile\u001b[0m\u001b[0;34m)\u001b[0m\u001b[0;34m\u001b[0m\u001b[0m\n\u001b[0;32m--> 210\u001b[0;31m         \u001b[0mstream\u001b[0m \u001b[0;34m=\u001b[0m \u001b[0mself\u001b[0m\u001b[0;34m.\u001b[0m\u001b[0m_root\u001b[0m\u001b[0;34m.\u001b[0m\u001b[0mjoin\u001b[0m\u001b[0;34m(\u001b[0m\u001b[0mfile\u001b[0m\u001b[0;34m)\u001b[0m\u001b[0;34m.\u001b[0m\u001b[0mopen\u001b[0m\u001b[0;34m(\u001b[0m\u001b[0mencoding\u001b[0m\u001b[0;34m)\u001b[0m\u001b[0;34m\u001b[0m\u001b[0m\n\u001b[0m\u001b[1;32m    211\u001b[0m         \u001b[0;32mreturn\u001b[0m \u001b[0mstream\u001b[0m\u001b[0;34m\u001b[0m\u001b[0m\n\u001b[1;32m    212\u001b[0m \u001b[0;34m\u001b[0m\u001b[0m\n",
      "\u001b[0;32m/Users/fib1123/anaconda/lib/python2.7/site-packages/nltk/data.pyc\u001b[0m in \u001b[0;36mjoin\u001b[0;34m(self, fileid)\u001b[0m\n\u001b[1;32m    320\u001b[0m     \u001b[0;32mdef\u001b[0m \u001b[0mjoin\u001b[0m\u001b[0;34m(\u001b[0m\u001b[0mself\u001b[0m\u001b[0;34m,\u001b[0m \u001b[0mfileid\u001b[0m\u001b[0;34m)\u001b[0m\u001b[0;34m:\u001b[0m\u001b[0;34m\u001b[0m\u001b[0m\n\u001b[1;32m    321\u001b[0m         \u001b[0m_path\u001b[0m \u001b[0;34m=\u001b[0m \u001b[0mos\u001b[0m\u001b[0;34m.\u001b[0m\u001b[0mpath\u001b[0m\u001b[0;34m.\u001b[0m\u001b[0mjoin\u001b[0m\u001b[0;34m(\u001b[0m\u001b[0mself\u001b[0m\u001b[0;34m.\u001b[0m\u001b[0m_path\u001b[0m\u001b[0;34m,\u001b[0m \u001b[0mfileid\u001b[0m\u001b[0;34m)\u001b[0m\u001b[0;34m\u001b[0m\u001b[0m\n\u001b[0;32m--> 322\u001b[0;31m         \u001b[0;32mreturn\u001b[0m \u001b[0mFileSystemPathPointer\u001b[0m\u001b[0;34m(\u001b[0m\u001b[0m_path\u001b[0m\u001b[0;34m)\u001b[0m\u001b[0;34m\u001b[0m\u001b[0m\n\u001b[0m\u001b[1;32m    323\u001b[0m \u001b[0;34m\u001b[0m\u001b[0m\n\u001b[1;32m    324\u001b[0m     \u001b[0;32mdef\u001b[0m \u001b[0m__repr__\u001b[0m\u001b[0;34m(\u001b[0m\u001b[0mself\u001b[0m\u001b[0;34m)\u001b[0m\u001b[0;34m:\u001b[0m\u001b[0;34m\u001b[0m\u001b[0m\n",
      "\u001b[0;32m/Users/fib1123/anaconda/lib/python2.7/site-packages/nltk/compat.pyc\u001b[0m in \u001b[0;36m_decorator\u001b[0;34m(*args, **kwargs)\u001b[0m\n\u001b[1;32m    562\u001b[0m     \u001b[0;32mdef\u001b[0m \u001b[0m_decorator\u001b[0m\u001b[0;34m(\u001b[0m\u001b[0;34m*\u001b[0m\u001b[0margs\u001b[0m\u001b[0;34m,\u001b[0m \u001b[0;34m**\u001b[0m\u001b[0mkwargs\u001b[0m\u001b[0;34m)\u001b[0m\u001b[0;34m:\u001b[0m\u001b[0;34m\u001b[0m\u001b[0m\n\u001b[1;32m    563\u001b[0m         \u001b[0margs\u001b[0m \u001b[0;34m=\u001b[0m \u001b[0;34m(\u001b[0m\u001b[0margs\u001b[0m\u001b[0;34m[\u001b[0m\u001b[0;36m0\u001b[0m\u001b[0;34m]\u001b[0m\u001b[0;34m,\u001b[0m \u001b[0madd_py3_data\u001b[0m\u001b[0;34m(\u001b[0m\u001b[0margs\u001b[0m\u001b[0;34m[\u001b[0m\u001b[0;36m1\u001b[0m\u001b[0;34m]\u001b[0m\u001b[0;34m)\u001b[0m\u001b[0;34m)\u001b[0m \u001b[0;34m+\u001b[0m \u001b[0margs\u001b[0m\u001b[0;34m[\u001b[0m\u001b[0;36m2\u001b[0m\u001b[0;34m:\u001b[0m\u001b[0;34m]\u001b[0m\u001b[0;34m\u001b[0m\u001b[0m\n\u001b[0;32m--> 564\u001b[0;31m         \u001b[0;32mreturn\u001b[0m \u001b[0minit_func\u001b[0m\u001b[0;34m(\u001b[0m\u001b[0;34m*\u001b[0m\u001b[0margs\u001b[0m\u001b[0;34m,\u001b[0m \u001b[0;34m**\u001b[0m\u001b[0mkwargs\u001b[0m\u001b[0;34m)\u001b[0m\u001b[0;34m\u001b[0m\u001b[0m\n\u001b[0m\u001b[1;32m    565\u001b[0m     \u001b[0;32mreturn\u001b[0m \u001b[0mwraps\u001b[0m\u001b[0;34m(\u001b[0m\u001b[0minit_func\u001b[0m\u001b[0;34m)\u001b[0m\u001b[0;34m(\u001b[0m\u001b[0m_decorator\u001b[0m\u001b[0;34m)\u001b[0m\u001b[0;34m\u001b[0m\u001b[0m\n\u001b[1;32m    566\u001b[0m \u001b[0;34m\u001b[0m\u001b[0m\n",
      "\u001b[0;32m/Users/fib1123/anaconda/lib/python2.7/site-packages/nltk/data.pyc\u001b[0m in \u001b[0;36m__init__\u001b[0;34m(self, _path)\u001b[0m\n\u001b[1;32m    298\u001b[0m         \u001b[0m_path\u001b[0m \u001b[0;34m=\u001b[0m \u001b[0mos\u001b[0m\u001b[0;34m.\u001b[0m\u001b[0mpath\u001b[0m\u001b[0;34m.\u001b[0m\u001b[0mabspath\u001b[0m\u001b[0;34m(\u001b[0m\u001b[0m_path\u001b[0m\u001b[0;34m)\u001b[0m\u001b[0;34m\u001b[0m\u001b[0m\n\u001b[1;32m    299\u001b[0m         \u001b[0;32mif\u001b[0m \u001b[0;32mnot\u001b[0m \u001b[0mos\u001b[0m\u001b[0;34m.\u001b[0m\u001b[0mpath\u001b[0m\u001b[0;34m.\u001b[0m\u001b[0mexists\u001b[0m\u001b[0;34m(\u001b[0m\u001b[0m_path\u001b[0m\u001b[0;34m)\u001b[0m\u001b[0;34m:\u001b[0m\u001b[0;34m\u001b[0m\u001b[0m\n\u001b[0;32m--> 300\u001b[0;31m             \u001b[0;32mraise\u001b[0m \u001b[0mIOError\u001b[0m\u001b[0;34m(\u001b[0m\u001b[0;34m'No such file or directory: %r'\u001b[0m \u001b[0;34m%\u001b[0m \u001b[0m_path\u001b[0m\u001b[0;34m)\u001b[0m\u001b[0;34m\u001b[0m\u001b[0m\n\u001b[0m\u001b[1;32m    301\u001b[0m         \u001b[0mself\u001b[0m\u001b[0;34m.\u001b[0m\u001b[0m_path\u001b[0m \u001b[0;34m=\u001b[0m \u001b[0m_path\u001b[0m\u001b[0;34m\u001b[0m\u001b[0m\n\u001b[1;32m    302\u001b[0m \u001b[0;34m\u001b[0m\u001b[0m\n",
      "\u001b[0;31mIOError\u001b[0m: No such file or directory: u'/Users/fib1123/nltk_data/corpora/stopwords/polish'"
     ]
    }
   ],
   "source": [
    "cachedStopWords = stopwords.words(\"polish\")"
   ]
  },
  {
   "cell_type": "code",
   "execution_count": 4,
   "metadata": {
    "collapsed": true
   },
   "outputs": [],
   "source": [
    "from polyglot.text import Text"
   ]
  },
  {
   "cell_type": "code",
   "execution_count": 5,
   "metadata": {
    "collapsed": true
   },
   "outputs": [],
   "source": [
    "text = u\"Po czterech miesiącach poszukiwań belgijska policja schwytała w piątek w Brukseli Salaha Abdeslama, uważanego za koordynatora krwawych paryskich zamachów z 13 listopada ub.r. Poza nim zatrzymano jeszcze cztery inne osoby podejrzane o związek z zamachami.Zatrzymań dokonano podczas zakrojonej na szeroką skalę operacji policji, wojska i sił specjalnych przeprowadzonej w brukselskiej dzielnicy Molenbeek, skąd 26-letni Abdeslam pochodził. Funkcjonariusze otoczyli tam dom, w którym zabarykadowali się\""
   ]
  },
  {
   "cell_type": "code",
   "execution_count": 6,
   "metadata": {
    "collapsed": false
   },
   "outputs": [],
   "source": [
    "parsedText = Text(text)"
   ]
  },
  {
   "cell_type": "code",
   "execution_count": 14,
   "metadata": {
    "collapsed": false
   },
   "outputs": [
    {
     "data": {
      "text/plain": [
       "WordList([u'Po', u'czterech', u'miesi\\u0105cach', u'poszukiwa\\u0144', u'belgijska', u'policja', u'schwyta\\u0142a', u'w', u'pi\\u0105tek', u'w', u'Brukseli', u'Salaha', u'Abdeslama', u',', u'uwa\\u017canego', u'za', u'koordynatora', u'krwawych', u'paryskich', u'zamach\\xf3w', u'z', u'13', u'listopada', u'ub.r', u'.'])"
      ]
     },
     "execution_count": 14,
     "metadata": {},
     "output_type": "execute_result"
    }
   ],
   "source": [
    "parsedText.sentences[0].words"
   ]
  },
  {
   "cell_type": "code",
   "execution_count": null,
   "metadata": {
    "collapsed": true
   },
   "outputs": [],
   "source": [
    "polis"
   ]
  }
 ],
 "metadata": {
  "kernelspec": {
   "display_name": "Python 2",
   "language": "python",
   "name": "python2"
  },
  "language_info": {
   "codemirror_mode": {
    "name": "ipython",
    "version": 2
   },
   "file_extension": ".py",
   "mimetype": "text/x-python",
   "name": "python",
   "nbconvert_exporter": "python",
   "pygments_lexer": "ipython2",
   "version": "2.7.11"
  }
 },
 "nbformat": 4,
 "nbformat_minor": 0
}
